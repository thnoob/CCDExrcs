{
 "cells": [
  {
   "cell_type": "markdown",
   "metadata": {},
   "source": [
    "# Roman numerals"
   ]
  },
  {
   "cell_type": "markdown",
   "metadata": {},
   "source": [
    "## I. Roman numerals to decimals\n",
    "\n",
    "Write a function which receives a Roman numeral written out as a string, and returns an integer representing the decimal form of the input number. "
   ]
  },
  {
   "cell_type": "code",
   "execution_count": 29,
   "metadata": {},
   "outputs": [],
   "source": [
    "mapping = {\"I\" : 1, \n",
    "           \"V\" : 5,\n",
    "           \"X\" : 10,\n",
    "           \"L\" : 50,\n",
    "           \"C\" : 100,\n",
    "           \"D\" : 500,\n",
    "           \"M\" : 1000}\n",
    "\n",
    "def roman_to_decimal(rom):\n",
    "    dec=0\n",
    "    for count in range(len(rom)):\n",
    "        if count != len(rom) - 1:\n",
    "            if mapping[rom[count]]<mapping[rom[count+1]]:\n",
    "                dec-=mapping[rom[count]]\n",
    "            else:\n",
    "                dec+=mapping[rom[count]]\n",
    "        else:\n",
    "            dec+=mapping[rom[count]] \n",
    "    return dec"
   ]
  },
  {
   "cell_type": "markdown",
   "metadata": {},
   "source": [
    "Here are some tests for you to test your code. Your code must pass all of them. You also need to come up with several more tests (your choice)."
   ]
  },
  {
   "cell_type": "code",
   "execution_count": 30,
   "metadata": {
    "scrolled": true
   },
   "outputs": [
    {
     "name": "stdout",
     "output_type": "stream",
     "text": [
      "True\n",
      "True\n",
      "True\n",
      "True\n",
      "True\n"
     ]
    }
   ],
   "source": [
    "test_pairs = [(\"IX\", 9), (\"XI\", 11), (\"MCCII\", 1202), (\"MMXVIII\", 2018), (\"XLIX\", 49)]\n",
    "\n",
    "for rom, dec in test_pairs:\n",
    "    converted = roman_to_decimal(rom)\n",
    "    print(converted == dec)"
   ]
  },
  {
   "cell_type": "markdown",
   "metadata": {},
   "source": [
    "## II. Decimal numbers to roman numerals.\n",
    "\n",
    "The maximum grade for first task (Roman to decimal) is 7 on the 10-point HSE scale. For extra credit, complete the second task: *given a decimal number, convert it to the Roman form*."
   ]
  },
  {
   "cell_type": "code",
   "execution_count": 35,
   "metadata": {},
   "outputs": [],
   "source": [
    "mapping = {\n",
    "    'M':1000,\n",
    "    'CM':900,\n",
    "    'D':500,\n",
    "    'CD':400,\n",
    "    'C':100,\n",
    "    'XC':90,\n",
    "    'L':50,\n",
    "    'XL':40,\n",
    "    'X':10,\n",
    "    'IX':9,\n",
    "    'V':5,\n",
    "    'IV':4,\n",
    "    'I':1 \n",
    "}\n",
    "\n",
    "def decimal_to_roman(dec):\n",
    "    if dec < 0 or dec > 3999:\n",
    "        return ('Error. Enter number in range (0, 4000)')\n",
    "    else:\n",
    "        rom = ''\n",
    "        for key in mapping.keys(): \n",
    "            rom += key*(dec//mapping[key])\n",
    "            dec -= mapping[key]*(dec//mapping[key])\n",
    "        return rom\n",
    "    return rom"
   ]
  },
  {
   "cell_type": "markdown",
   "metadata": {},
   "source": [
    "You need to come up with test cases to show that your conversion works as expected. \n",
    "NB: the conversion is ambiguous in some cases. Any valid conversion is accepted. "
   ]
  },
  {
   "cell_type": "code",
   "execution_count": 38,
   "metadata": {},
   "outputs": [
    {
     "name": "stdout",
     "output_type": "stream",
     "text": [
      "True\n",
      "True\n",
      "True\n",
      "True\n",
      "True\n"
     ]
    }
   ],
   "source": [
    "test_sample = [(\"XXXIV\", 34), (\"CXLVII\", 147), (\"MCMLXXIV\", 1974), (\"DCXCVI\", 696), (\"MCDLXXXIII\", 1483)]\n",
    "\n",
    "for rom, dec in test_sample:\n",
    "    calculated = decimal_to_roman(dec)\n",
    "    print(calculated == rom)"
   ]
  },
  {
   "cell_type": "code",
   "execution_count": null,
   "metadata": {},
   "outputs": [],
   "source": []
  }
 ],
 "metadata": {
  "kernelspec": {
   "display_name": "Python 3",
   "language": "python",
   "name": "python3"
  },
  "language_info": {
   "codemirror_mode": {
    "name": "ipython",
    "version": 3
   },
   "file_extension": ".py",
   "mimetype": "text/x-python",
   "name": "python",
   "nbconvert_exporter": "python",
   "pygments_lexer": "ipython3",
   "version": "3.6.5"
  }
 },
 "nbformat": 4,
 "nbformat_minor": 2
}
