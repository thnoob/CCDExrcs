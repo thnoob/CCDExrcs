{
 "cells": [
  {
   "cell_type": "code",
   "execution_count": 47,
   "metadata": {},
   "outputs": [],
   "source": [
    "from scipy.integrate import dblquad\n",
    "import numpy as np"
   ]
  },
  {
   "cell_type": "markdown",
   "metadata": {},
   "source": [
    "# Task 1\n",
    "Implement integration over a rectangular domain with a double Legendre quadrature.\n",
    "Use a Gauss-Legendre quadrature (weight function $=1$) for both $x$ and $y$:\n",
    "$$\n",
    "Q[f] = \\sum_{j=0}^{m} \\sum_{k=0}^{n} f(x_j, y_k)\\, w_j^{(x)} \\, w_k^{(y)}\n",
    "$$"
   ]
  },
  {
   "cell_type": "code",
   "execution_count": 63,
   "metadata": {},
   "outputs": [],
   "source": [
    "def f(x, y):\n",
    "    \"\"\"Интегрируемая функция\"\"\"\n",
    "    return 3*x**2 + 2*y**2\n",
    "\n",
    "a, b = 0, 4 \n",
    "c, d = 1, 3\n",
    "n, m = 100, 100"
   ]
  },
  {
   "cell_type": "code",
   "execution_count": 64,
   "metadata": {},
   "outputs": [],
   "source": [
    "def calc_integral(f, a, b, c, d, n, m):\n",
    "    \"\"\"Вычисление интеграла с заданной областью и количеством интервалов\"\"\"\n",
    "    integral = 0\n",
    "    dx = (b - a)/n\n",
    "    dy = (c - d)/m\n",
    "    for i in range(n):\n",
    "        for j in range(m):\n",
    "            x = a + (b - a) * (i + 0.5) / n\n",
    "            y = c + (d - c) * (j + 0.5) / m\n",
    "            integral += f(x,y) * (d - c)*(b - a)/(n * m)\n",
    "    return integral"
   ]
  },
  {
   "cell_type": "code",
   "execution_count": 87,
   "metadata": {},
   "outputs": [
    {
     "name": "stdout",
     "output_type": "stream",
     "text": [
      "Calculated integral is  197.33279967999306\n",
      "Calculated with dblquad is  197.33333333333334\n",
      "Error is  0.0005336533402839905\n"
     ]
    }
   ],
   "source": [
    "calculated = calc_integral(f, a, b, c, d, n, m)\n",
    "dblqd = dblquad(f, c, d, a, b)[0]\n",
    "print(\"Calculated integral is \", calculated)\n",
    "print(\"Calculated with dblquad is \", dblqd)\n",
    "print(\"Error is \", dblqd - calculated)"
   ]
  },
  {
   "cell_type": "markdown",
   "metadata": {},
   "source": [
    "# Task 5\n",
    "Use the Sobol sequence to calculate the value of\n",
    "$$\n",
    "\\iint\\limits_D e^{-(x^2 + y^2)} \\, dx\\, dy  \\;,\n",
    "$$\n",
    "where $D$ is the unit square. Compare to the exact answer (which can be expressed in terms of the error function)."
   ]
  },
  {
   "cell_type": "code",
   "execution_count": 88,
   "metadata": {},
   "outputs": [],
   "source": [
    "import sobol_seq\n",
    "\n",
    "def f1(x, y):\n",
    "    \"\"\"Интегрируемая функция\"\"\"\n",
    "    return np.exp(-(x**2 + y**2))\n",
    "\n",
    "x1, y1 = 0, 1\n",
    "x2, y2 = 0, 1"
   ]
  },
  {
   "cell_type": "code",
   "execution_count": 89,
   "metadata": {},
   "outputs": [],
   "source": [
    "def inside_filt(x,y):\n",
    "    return x * y < 1\n",
    "\n",
    "def sample(n):\n",
    "    x, y = sobol_seq.i4_sobol_generate(2, n).T\n",
    "    inside = inside_filt(x ,y)\n",
    "    return np.sum(f1(x[inside], y[inside])/ n)"
   ]
  },
  {
   "cell_type": "code",
   "execution_count": 90,
   "metadata": {},
   "outputs": [
    {
     "name": "stdout",
     "output_type": "stream",
     "text": [
      "N          Error\n",
      "100\t 0.002163\n",
      "1000\t 0.000166\n",
      "10000\t 0.000069\n"
     ]
    }
   ],
   "source": [
    "answer = dblquad(f1, x1, y1, x2, y2)[0]\n",
    "print(\"N          Error\")\n",
    "for n in [100, 1000, 10000]:\n",
    "    res = sample(n)\n",
    "    err = res - answer\n",
    "    print('%i\\t %f'%(n, err))"
   ]
  },
  {
   "cell_type": "code",
   "execution_count": null,
   "metadata": {},
   "outputs": [],
   "source": []
  }
 ],
 "metadata": {
  "kernelspec": {
   "display_name": "Python 3",
   "language": "python",
   "name": "python3"
  },
  "language_info": {
   "codemirror_mode": {
    "name": "ipython",
    "version": 3
   },
   "file_extension": ".py",
   "mimetype": "text/x-python",
   "name": "python",
   "nbconvert_exporter": "python",
   "pygments_lexer": "ipython3",
   "version": "3.6.5"
  }
 },
 "nbformat": 4,
 "nbformat_minor": 2
}
