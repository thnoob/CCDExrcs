{
 "cells": [
  {
   "cell_type": "markdown",
   "metadata": {},
   "source": [
    "## Solve a quadratic equation, $x^2 + b x + c = 0$."
   ]
  },
  {
   "cell_type": "code",
   "execution_count": null,
   "metadata": {},
   "outputs": [],
   "source": [
    "import numpy as np\n",
    "from decimal import Decimal\n",
    "import cmath\n",
    "from numpy import allclose\n",
    "\n",
    "def solve_quad(b, c):\n",
    "    b = Decimal(b)\n",
    "    c = Decimal(c)\n",
    "    if c == 0: \n",
    "        if b == 0:\n",
    "            first_dec = float(0)\n",
    "            second_dec = first_dec\n",
    "        first_dec = float(-b)\n",
    "        second_dec = 0\n",
    "    else:\n",
    "        D = b**2 - 4 * c\n",
    "        if D > 0:\n",
    "            first_dec = float((-b + np.sqrt(D))/2)\n",
    "            second_dec = float((-b - np.sqrt(D))/2)\n",
    "        elif D == 0:\n",
    "            first_dec = float(-b/2)\n",
    "            second_dec = first_dec\n",
    "        else:\n",
    "            b = float(b)\n",
    "            c =  float(c)\n",
    "            D= float(D)\n",
    "            first_dec = (-b + cmath.sqrt(D))/2\n",
    "            second_dec = (-b - cmath.sqrt(D))/2\n",
    "    return first_dec, second_dec"
   ]
  },
  {
   "cell_type": "markdown",
   "metadata": {},
   "source": [
    "Test the function"
   ]
  },
  {
   "cell_type": "code",
   "execution_count": null,
   "metadata": {},
   "outputs": [],
   "source": [
    "from numpy import allclose"
   ]
  },
  {
   "cell_type": "code",
   "execution_count": null,
   "metadata": {},
   "outputs": [],
   "source": [
    "variants = [{'b': 4.0, 'c': 3.0},\n",
    "            {'b': 2.0, 'c': 1.0},\n",
    "            {'b': 0.5, 'c': 4.0},\n",
    "            {'b': 1e10, 'c': 3.0},\n",
    "            {'b': -1e10, 'c': 4.0},]"
   ]
  },
  {
   "cell_type": "code",
   "execution_count": null,
   "metadata": {},
   "outputs": [],
   "source": [
    "for var in variants:\n",
    "    x1, x2 = solve_quad(**var)\n",
    "    print(allclose(x1*x2, var['c']))"
   ]
  }
 ],
 "metadata": {
  "kernelspec": {
   "display_name": "Python 3",
   "language": "python",
   "name": "python3"
  },
  "language_info": {
   "codemirror_mode": {
    "name": "ipython",
    "version": 3
   },
   "file_extension": ".py",
   "mimetype": "text/x-python",
   "name": "python",
   "nbconvert_exporter": "python",
   "pygments_lexer": "ipython3",
   "version": "3.6.5"
  }
 },
 "nbformat": 4,
 "nbformat_minor": 2
}
