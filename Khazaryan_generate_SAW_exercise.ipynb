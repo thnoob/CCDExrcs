{
 "cells": [
  {
   "cell_type": "markdown",
   "metadata": {},
   "source": [
    "# I. Generate all lattice walks, 2D square lattice"
   ]
  },
  {
   "cell_type": "code",
   "execution_count": 1,
   "metadata": {
    "collapsed": true
   },
   "outputs": [],
   "source": [
    "# This I showed in class:\n",
    "steps = [(1, 0), (-1, 0), (0, 1), (0, -1)]\n",
    "\n",
    "def generate_walks(path, L):\n",
    "    \"\"\"Generate all random walks on the 2D square lattice.\"\"\"\n",
    "    if L == 0:\n",
    "        print(path)\n",
    "    else:\n",
    "        for dx, dy in steps:\n",
    "            x, y = path[-1]\n",
    "            pp = path.copy()\n",
    "            pp.append((x + dx, y + dy))\n",
    "            generate_walks(pp, L - 1)"
   ]
  },
  {
   "cell_type": "code",
   "execution_count": 3,
   "metadata": {},
   "outputs": [
    {
     "name": "stdout",
     "output_type": "stream",
     "text": [
      "[(0, 0), (1, 0), (2, 0)]\n",
      "[(0, 0), (1, 0), (0, 0)]\n",
      "[(0, 0), (1, 0), (1, 1)]\n",
      "[(0, 0), (1, 0), (1, -1)]\n",
      "[(0, 0), (-1, 0), (0, 0)]\n",
      "[(0, 0), (-1, 0), (-2, 0)]\n",
      "[(0, 0), (-1, 0), (-1, 1)]\n",
      "[(0, 0), (-1, 0), (-1, -1)]\n",
      "[(0, 0), (0, 1), (1, 1)]\n",
      "[(0, 0), (0, 1), (-1, 1)]\n",
      "[(0, 0), (0, 1), (0, 2)]\n",
      "[(0, 0), (0, 1), (0, 0)]\n",
      "[(0, 0), (0, -1), (1, -1)]\n",
      "[(0, 0), (0, -1), (-1, -1)]\n",
      "[(0, 0), (0, -1), (0, 0)]\n",
      "[(0, 0), (0, -1), (0, -2)]\n"
     ]
    }
   ],
   "source": [
    "generate_walks([(0, 0)], 2)"
   ]
  },
  {
   "cell_type": "markdown",
   "metadata": {},
   "source": [
    "## Store the walks\n",
    "\n",
    "Printing walks is nice, but not very useful. Better construct a list of all walks, for postprocessing. To this end, add a `cache` parameter, which stores all generated walks."
   ]
  },
  {
   "cell_type": "code",
   "execution_count": 7,
   "metadata": {},
   "outputs": [],
   "source": [
    "steps = [(1, 0), (-1, 0), (0, 1), (0, -1)]\n",
    "\n",
    "def generate_walks2(path, L, cache):\n",
    "    if L == 0:\n",
    "        cache.append(path)\n",
    "    else:\n",
    "        for dx, dy in steps:\n",
    "            x, y = path[-1]\n",
    "            xy_new = (x + dx, y + dy)\n",
    "            pp = path.copy()\n",
    "            pp.append(xy_new)\n",
    "            generate_walks2(pp, L - 1, cache)"
   ]
  },
  {
   "cell_type": "code",
   "execution_count": 16,
   "metadata": {},
   "outputs": [
    {
     "data": {
      "text/plain": [
       "16"
      ]
     },
     "execution_count": 16,
     "metadata": {},
     "output_type": "execute_result"
    }
   ],
   "source": [
    "cache = []\n",
    "generate_walks2([(0, 0)], 2, cache)\n",
    "len(cache)"
   ]
  },
  {
   "cell_type": "code",
   "execution_count": 9,
   "metadata": {},
   "outputs": [
    {
     "data": {
      "text/plain": [
       "[[(0, 0), (1, 0), (2, 0)],\n",
       " [(0, 0), (1, 0), (0, 0)],\n",
       " [(0, 0), (1, 0), (1, 1)],\n",
       " [(0, 0), (1, 0), (1, -1)],\n",
       " [(0, 0), (-1, 0), (0, 0)],\n",
       " [(0, 0), (-1, 0), (-2, 0)],\n",
       " [(0, 0), (-1, 0), (-1, 1)],\n",
       " [(0, 0), (-1, 0), (-1, -1)],\n",
       " [(0, 0), (0, 1), (1, 1)],\n",
       " [(0, 0), (0, 1), (-1, 1)],\n",
       " [(0, 0), (0, 1), (0, 2)],\n",
       " [(0, 0), (0, 1), (0, 0)],\n",
       " [(0, 0), (0, -1), (1, -1)],\n",
       " [(0, 0), (0, -1), (-1, -1)],\n",
       " [(0, 0), (0, -1), (0, 0)],\n",
       " [(0, 0), (0, -1), (0, -2)]]"
      ]
     },
     "execution_count": 9,
     "metadata": {},
     "output_type": "execute_result"
    }
   ],
   "source": [
    "cache"
   ]
  },
  {
   "cell_type": "markdown",
   "metadata": {},
   "source": [
    "## Task 0\n",
    "\n",
    "Compute the average end-to-end distance of random walks of a given length. What is the scaling of the end-to-end distance with the length of the walk? What is the scaling of the mean *square* end-to-end distance with the length?"
   ]
  },
  {
   "cell_type": "code",
   "execution_count": 85,
   "metadata": {},
   "outputs": [],
   "source": [
    "import random\n",
    "import math\n",
    "\n",
    "def calc_aver_dist():\n",
    "    cache = []\n",
    "    sum_dist = 0\n",
    "    start_point = [(random.randint(0, 10), random.randint(0, 10))]\n",
    "    length = random.randint(1, 3)\n",
    "    generate_walks2(start_point, length, cache)\n",
    "    print(\"Start point \", start_point, \", length \", length)\n",
    "    for path in cache:\n",
    "        dist = ((path[-1][0] - path[0][0])**2 + (path[-1][1] - path[0][1])**2)**(1/2) #end-to-end distance\n",
    "        sum_dist += dist\n",
    "        #print(\"Start point \", path[0] ,\", end point \", path[-1], \", distance \", dist)\n",
    "    aver_dist = sum_dist/len(cache)\n",
    "    print(\"Average end-to-end distance: \", aver_dist)\n",
    "\n",
    "def calc_meansq_dist():\n",
    "    cache = []\n",
    "    sum_dist = 0\n",
    "    start_point = [(random.randint(0, 10), random.randint(0, 10))]\n",
    "    length = random.randint(1, 3)\n",
    "    generate_walks2(start_point, length, cache)\n",
    "    print(\"Start point \", start_point, \", length \", length)\n",
    "    for path in cache:\n",
    "        dist = ((path[-1][0] - path[0][0])**2 + (path[-1][1] - path[0][1])**2) #mean square end-to-end distance\n",
    "        sum_dist += dist\n",
    "        #print(\"Start point \", path[0] ,\", end point \", path[-1], \", distance \", dist)\n",
    "    aver_dist = sum_dist/len(cache)\n",
    "    print(\"Mean square end-to-end distance: \", aver_dist) "
   ]
  },
  {
   "cell_type": "code",
   "execution_count": 91,
   "metadata": {},
   "outputs": [
    {
     "name": "stdout",
     "output_type": "stream",
     "text": [
      "Start point  [(9, 9)] , length  2\n",
      "Average end-to-end distance:  1.2071067811865477\n",
      "\n",
      "Start point  [(5, 10)] , length  2\n",
      "Mean square end to end distance:  2.0\n"
     ]
    }
   ],
   "source": [
    "calc_aver_dist()\n",
    "print(\"\")\n",
    "calc_meansq_dist()"
   ]
  },
  {
   "cell_type": "markdown",
   "metadata": {},
   "source": [
    "# I. Generate all SAWs on a 2D square lattice\n",
    "\n",
    "A self-avoiding walk is a random walk where a lattice site can only be visited once."
   ]
  },
  {
   "cell_type": "code",
   "execution_count": 107,
   "metadata": {},
   "outputs": [],
   "source": [
    "steps = [(1, 0), (-1, 0), (0, 1), (0, -1)]\n",
    "\n",
    "def generate_SAWs(path, L, cache):\n",
    "    if L == 0:\n",
    "        cache.append(path)\n",
    "    else:\n",
    "        for dx, dy in steps:\n",
    "            x, y = path[-1]\n",
    "            xy_new = (x + dx, y + dy)\n",
    "            if xy_new in path:    #Если координата есть в пути, то пропускаем шаг\n",
    "                continue\n",
    "            pp = path.copy()\n",
    "            pp.append(xy_new)\n",
    "            generate_SAWs(pp, L - 1, cache)"
   ]
  },
  {
   "cell_type": "code",
   "execution_count": 108,
   "metadata": {},
   "outputs": [
    {
     "data": {
      "text/plain": [
       "[[(0, 0), (1, 0), (2, 0)],\n",
       " [(0, 0), (1, 0), (1, 1)],\n",
       " [(0, 0), (1, 0), (1, -1)],\n",
       " [(0, 0), (-1, 0), (-2, 0)],\n",
       " [(0, 0), (-1, 0), (-1, 1)],\n",
       " [(0, 0), (-1, 0), (-1, -1)],\n",
       " [(0, 0), (0, 1), (1, 1)],\n",
       " [(0, 0), (0, 1), (-1, 1)],\n",
       " [(0, 0), (0, 1), (0, 2)],\n",
       " [(0, 0), (0, -1), (1, -1)],\n",
       " [(0, 0), (0, -1), (-1, -1)],\n",
       " [(0, 0), (0, -1), (0, -2)]]"
      ]
     },
     "execution_count": 108,
     "metadata": {},
     "output_type": "execute_result"
    }
   ],
   "source": [
    "cache = []\n",
    "generate_SAWs([(0, 0)], 2, cache)\n",
    "cache"
   ]
  },
  {
   "cell_type": "markdown",
   "metadata": {},
   "source": [
    "## Task 1\n",
    "\n",
    "How many walks of a given length are there? What is the mean end-to-end distance of walks of a given length? What is mean *square* of the end-to-end distance?"
   ]
  },
  {
   "cell_type": "code",
   "execution_count": 125,
   "metadata": {},
   "outputs": [
    {
     "name": "stdout",
     "output_type": "stream",
     "text": [
      "Length 1 ,number of walks  4\n",
      "Length 2 ,number of walks  12\n",
      "Length 3 ,number of walks  36\n",
      "Length 4 ,number of walks  100\n",
      "Length 5 ,number of walks  284\n"
     ]
    }
   ],
   "source": [
    "#number of walks of a given length\n",
    "for i in range(1, 6):\n",
    "    cache = []\n",
    "    generate_SAWs([(0, 0)], i, cache)\n",
    "    print(\"Length\", i, \",number of walks \", len(cache))"
   ]
  },
  {
   "cell_type": "code",
   "execution_count": 135,
   "metadata": {},
   "outputs": [],
   "source": [
    "import random\n",
    "import math\n",
    "\n",
    "def calc_aver_dist():\n",
    "    cache = []\n",
    "    sum_dist = 0\n",
    "    start_point = [(random.randint(0, 10), random.randint(0, 10))]\n",
    "    length = random.randint(1, 3)\n",
    "    generate_SAWs(start_point, length, cache)\n",
    "    print(\"Start point \", start_point, \", length \", length)\n",
    "    for path in cache:\n",
    "        dist = ((path[-1][0] - path[0][0])**2 + (path[-1][1] - path[0][1])**2)**(1/2) #end-to-end distance\n",
    "        sum_dist += dist\n",
    "        #print(\"Start point \", path[0] ,\", end point \", path[-1], \", distance \", dist)\n",
    "    aver_dist = sum_dist/len(cache)\n",
    "    print(\"Average end-to-end distance: \", aver_dist)\n",
    "\n",
    "def calc_meansq_dist():\n",
    "    cache = []\n",
    "    sum_dist = 0\n",
    "    start_point = [(random.randint(0, 10), random.randint(0, 10))]\n",
    "    length = random.randint(1, 3)\n",
    "    generate_SAWs(start_point, length, cache)\n",
    "    print(\"Start point \", start_point, \", length \", length)\n",
    "    for path in cache:\n",
    "        dist = ((path[-1][0] - path[0][0])**2 + (path[-1][1] - path[0][1])**2) #mean square end-to-end distance\n",
    "        sum_dist += dist\n",
    "        #print(\"Start point \", path[0] ,\", end point \", path[-1], \", distance \", dist)\n",
    "    aver_dist = sum_dist/len(cache)\n",
    "    print(\"Mean square end-to-end distance: \", aver_dist)"
   ]
  },
  {
   "cell_type": "code",
   "execution_count": 139,
   "metadata": {
    "scrolled": true
   },
   "outputs": [
    {
     "name": "stdout",
     "output_type": "stream",
     "text": [
      "Start point  [(3, 6)] , length  2\n",
      "Average end-to-end distance:  1.6094757082487303\n",
      "\n",
      "Start point  [(5, 1)] , length  3\n",
      "Mean square end-to-end distance:  4.555555555555555\n"
     ]
    }
   ],
   "source": [
    "calc_aver_dist()\n",
    "print(\"\")\n",
    "calc_meansq_dist()"
   ]
  },
  {
   "cell_type": "markdown",
   "metadata": {},
   "source": [
    "## Extra tasks (for fun, no credit, a possible basis of a course project)\n",
    "\n",
    "1. Triangular lattice\n",
    "2. Rewrite the recursive algorithm to use a queue"
   ]
  },
  {
   "cell_type": "code",
   "execution_count": null,
   "metadata": {
    "collapsed": true
   },
   "outputs": [],
   "source": []
  }
 ],
 "metadata": {
  "kernelspec": {
   "display_name": "Python 3",
   "language": "python",
   "name": "python3"
  },
  "language_info": {
   "codemirror_mode": {
    "name": "ipython",
    "version": 3
   },
   "file_extension": ".py",
   "mimetype": "text/x-python",
   "name": "python",
   "nbconvert_exporter": "python",
   "pygments_lexer": "ipython3",
   "version": "3.6.5"
  }
 },
 "nbformat": 4,
 "nbformat_minor": 2
}
